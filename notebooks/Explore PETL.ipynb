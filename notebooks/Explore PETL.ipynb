{
 "cells": [
  {
   "cell_type": "code",
   "execution_count": 1,
   "id": "favorite-times",
   "metadata": {},
   "outputs": [],
   "source": [
    "import petl"
   ]
  },
  {
   "cell_type": "code",
   "execution_count": 2,
   "id": "civil-paintball",
   "metadata": {},
   "outputs": [],
   "source": [
    "header_cols = ['section_id', 'slug', 'title', 'description', 'url']\n",
    "d = petl.fromcsv('../samples/minimal.csv', header=header_cols)"
   ]
  },
  {
   "cell_type": "code",
   "execution_count": 3,
   "id": "serial-exhibit",
   "metadata": {},
   "outputs": [
    {
     "data": {
      "text/plain": [
       "petl.io.csv_py3.CSVView"
      ]
     },
     "execution_count": 3,
     "metadata": {},
     "output_type": "execute_result"
    }
   ],
   "source": [
    "type(d)"
   ]
  },
  {
   "cell_type": "code",
   "execution_count": 4,
   "id": "commercial-token",
   "metadata": {},
   "outputs": [
    {
     "data": {
      "text/plain": [
       "{'keyz': 'valz'}"
      ]
     },
     "execution_count": 4,
     "metadata": {},
     "output_type": "execute_result"
    }
   ],
   "source": [
    "d.metadata = {\"keyz\": \"valz\"}\n",
    "d.metadata"
   ]
  },
  {
   "cell_type": "code",
   "execution_count": 5,
   "id": "bound-flexibility",
   "metadata": {},
   "outputs": [],
   "source": [
    "import pprint\n",
    "# pprint.pprint(list(d.dicts()))"
   ]
  },
  {
   "cell_type": "code",
   "execution_count": 6,
   "id": "functional-saying",
   "metadata": {},
   "outputs": [
    {
     "data": {
      "text/html": [
       "<table class='petl'>\n",
       "<thead>\n",
       "<tr>\n",
       "<th>section_id</th>\n",
       "<th>slug</th>\n",
       "<th>title</th>\n",
       "<th>description</th>\n",
       "<th>url</th>\n",
       "</tr>\n",
       "</thead>\n",
       "<tbody>\n",
       "<tr>\n",
       "<td>key1:</td>\n",
       "<td>value1</td>\n",
       "<td></td>\n",
       "<td></td>\n",
       "<td></td>\n",
       "</tr>\n",
       "<tr>\n",
       "<td>key2:</td>\n",
       "<td>value2</td>\n",
       "<td></td>\n",
       "<td></td>\n",
       "<td></td>\n",
       "</tr>\n",
       "<tr>\n",
       "<td>title:</td>\n",
       "<td>Minimal sample document</td>\n",
       "<td></td>\n",
       "<td></td>\n",
       "<td></td>\n",
       "</tr>\n",
       "<tr>\n",
       "<td>description:</td>\n",
       "<td>This is a sample document that consists of four sections</td>\n",
       "<td></td>\n",
       "<td></td>\n",
       "<td></td>\n",
       "</tr>\n",
       "<tr>\n",
       "<td>doc_id:</td>\n",
       "<td>Sample-doc-001</td>\n",
       "<td></td>\n",
       "<td></td>\n",
       "<td></td>\n",
       "</tr>\n",
       "</tbody>\n",
       "</table>\n",
       "<p><strong>...</strong></p>"
      ],
      "text/plain": [
       "+----------------+------------------------------------------------------------+-------+-------------+-----+\n",
       "| section_id     | slug                                                       | title | description | url |\n",
       "+================+============================================================+=======+=============+=====+\n",
       "| 'key1:'        | 'value1'                                                   | ''    | ''          | ''  |\n",
       "+----------------+------------------------------------------------------------+-------+-------------+-----+\n",
       "| 'key2:'        | 'value2'                                                   | ''    | ''          | ''  |\n",
       "+----------------+------------------------------------------------------------+-------+-------------+-----+\n",
       "| 'title:'       | 'Minimal sample document'                                  | ''    | ''          | ''  |\n",
       "+----------------+------------------------------------------------------------+-------+-------------+-----+\n",
       "| 'description:' | 'This is a sample document that consists of four sections' | ''    | ''          | ''  |\n",
       "+----------------+------------------------------------------------------------+-------+-------------+-----+\n",
       "| 'doc_id:'      | 'Sample-doc-001'                                           | ''    | ''          | ''  |\n",
       "+----------------+------------------------------------------------------------+-------+-------------+-----+\n",
       "..."
      ]
     },
     "execution_count": 6,
     "metadata": {},
     "output_type": "execute_result"
    }
   ],
   "source": [
    "d"
   ]
  },
  {
   "cell_type": "code",
   "execution_count": 7,
   "id": "rocky-conversation",
   "metadata": {},
   "outputs": [],
   "source": [
    "# from StringIO import StringIO\n",
    "from petl import MemorySource\n",
    "databuffer = MemorySource()\n",
    "d.tocsv(databuffer, write_header=False, encoding='utf-8')\n",
    "databuffer.s = databuffer.getvalue()"
   ]
  },
  {
   "cell_type": "code",
   "execution_count": 8,
   "id": "corrected-coverage",
   "metadata": {},
   "outputs": [],
   "source": [
    "#print(databuffer.getvalue().decode('utf-8'))"
   ]
  },
  {
   "cell_type": "code",
   "execution_count": null,
   "id": "legal-being",
   "metadata": {},
   "outputs": [],
   "source": []
  },
  {
   "cell_type": "code",
   "execution_count": 9,
   "id": "ahead-belly",
   "metadata": {},
   "outputs": [
    {
     "data": {
      "text/plain": [
       "[{'section_id': 'key1:',\n",
       "  'slug': 'value1',\n",
       "  'title': '',\n",
       "  'description': '',\n",
       "  'url': ''},\n",
       " {'section_id': 'key2:',\n",
       "  'slug': 'value2',\n",
       "  'title': '',\n",
       "  'description': '',\n",
       "  'url': ''},\n",
       " {'section_id': 'title:',\n",
       "  'slug': 'Minimal sample document',\n",
       "  'title': '',\n",
       "  'description': '',\n",
       "  'url': ''},\n",
       " {'section_id': 'description:',\n",
       "  'slug': 'This is a sample document that consists of four sections',\n",
       "  'title': '',\n",
       "  'description': '',\n",
       "  'url': ''},\n",
       " {'section_id': 'doc_id:',\n",
       "  'slug': 'Sample-doc-001',\n",
       "  'title': '',\n",
       "  'description': '',\n",
       "  'url': ''},\n",
       " {'section_id': 'comment:',\n",
       "  'slug': 'This is not part of document metadata; just a comment about this data source file',\n",
       "  'title': '',\n",
       "  'description': '',\n",
       "  'url': ''},\n",
       " {'section_id': 'section_id',\n",
       "  'slug': 'slug',\n",
       "  'title': 'title',\n",
       "  'description': 'description',\n",
       "  'url': 'url'},\n",
       " {'section_id': '001',\n",
       "  'slug': 'domain',\n",
       "  'title': 'Domain',\n",
       "  'description': 'An overview of the domain needs for easy-to-use tabular data format',\n",
       "  'url': 'https://github.com/rocdata/libtabular/blob/main/docs/domain.md'},\n",
       " {'section_id': '002',\n",
       "  'slug': 'dataformat',\n",
       "  'title': 'CSV files with metadata',\n",
       "  'description': 'Description of the CSV-with-metadata-header data format',\n",
       "  'url': 'https://github.com/rocdata/libtabular/blob/main/docs/dataformat.md'},\n",
       " {'section_id': '003',\n",
       "  'slug': 'tutorial',\n",
       "  'title': 'Tutorial',\n",
       "  'description': 'Hands-on examples of using libtabular',\n",
       "  'url': 'https://github.com/rocdata/libtabular/blob/main/docs/tutorial.md'},\n",
       " {'section_id': '004',\n",
       "  'slug': 'backends',\n",
       "  'title': 'Backends',\n",
       "  'description': 'Description of integrations to various spreadsheets formats and APIs  ',\n",
       "  'url': 'https://github.com/rocdata/libtabular/blob/main/docs/backends.md'}]"
      ]
     },
     "execution_count": 9,
     "metadata": {},
     "output_type": "execute_result"
    }
   ],
   "source": [
    "d2 = petl.fromcsv(databuffer, header=header_cols)\n",
    "# list(d2)\n",
    "list(d2.dicts())"
   ]
  },
  {
   "cell_type": "code",
   "execution_count": 10,
   "id": "stunning-chinese",
   "metadata": {},
   "outputs": [
    {
     "data": {
      "text/plain": [
       "b''"
      ]
     },
     "execution_count": 10,
     "metadata": {},
     "output_type": "execute_result"
    }
   ],
   "source": [
    "databuffer.buffer.read()"
   ]
  },
  {
   "cell_type": "code",
   "execution_count": 11,
   "id": "weekly-gibson",
   "metadata": {},
   "outputs": [
    {
     "data": {
      "text/plain": [
       "(petl.io.csv_py3.CSVView,\n",
       " petl.util.base.Table,\n",
       " petl.util.base.IterContainer,\n",
       " object)"
      ]
     },
     "execution_count": 11,
     "metadata": {},
     "output_type": "execute_result"
    }
   ],
   "source": [
    "type(d2).__mro__"
   ]
  },
  {
   "cell_type": "code",
   "execution_count": 12,
   "id": "outdoor-syndrome",
   "metadata": {},
   "outputs": [],
   "source": [
    "from src.libtabular.metadataheaders import parse_metadata_header"
   ]
  },
  {
   "cell_type": "code",
   "execution_count": 13,
   "id": "careful-specialist",
   "metadata": {},
   "outputs": [],
   "source": [
    "rawtable = petl.fromcsv('../samples/minimal.csv', dialect='excel', header=None)"
   ]
  },
  {
   "cell_type": "code",
   "execution_count": 14,
   "id": "celtic-fiction",
   "metadata": {},
   "outputs": [
    {
     "name": "stdout",
     "output_type": "stream",
     "text": [
      "\n",
      "\n",
      "\n",
      "\n",
      "\n",
      "\n",
      "\n",
      "\n",
      "\n",
      "\n",
      "\n"
     ]
    },
    {
     "data": {
      "text/plain": [
       "(6,\n",
       " {'key1': 'value1',\n",
       "  'key2': 'value2',\n",
       "  'title': 'Minimal sample document',\n",
       "  'description': 'This is a sample document that consists of four sections',\n",
       "  'doc_id': 'Sample-doc-001',\n",
       "  'comment': 'This is not part of document metadata; just a comment about this data source file'},\n",
       " ('section_id', 'slug', 'title', 'description', 'url'))"
      ]
     },
     "execution_count": 14,
     "metadata": {},
     "output_type": "execute_result"
    }
   ],
   "source": [
    "num_metadata_rows, metadata, header = parse_metadata_header(rawtable)\n",
    "(num_metadata_rows, metadata, header)"
   ]
  },
  {
   "cell_type": "code",
   "execution_count": null,
   "id": "hearing-gates",
   "metadata": {},
   "outputs": [],
   "source": []
  }
 ],
 "metadata": {
  "kernelspec": {
   "display_name": "Python 3",
   "language": "python",
   "name": "python3"
  },
  "language_info": {
   "codemirror_mode": {
    "name": "ipython",
    "version": 3
   },
   "file_extension": ".py",
   "mimetype": "text/x-python",
   "name": "python",
   "nbconvert_exporter": "python",
   "pygments_lexer": "ipython3",
   "version": "3.6.9"
  }
 },
 "nbformat": 4,
 "nbformat_minor": 5
}
