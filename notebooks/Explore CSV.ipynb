{
 "cells": [
  {
   "cell_type": "code",
   "execution_count": 1,
   "id": "stretch-partner",
   "metadata": {},
   "outputs": [],
   "source": [
    "import csv"
   ]
  },
  {
   "cell_type": "code",
   "execution_count": 2,
   "id": "essential-century",
   "metadata": {},
   "outputs": [],
   "source": [
    "from csv import DictReader"
   ]
  },
  {
   "cell_type": "code",
   "execution_count": 3,
   "id": "divine-thesaurus",
   "metadata": {},
   "outputs": [],
   "source": [
    "rdr = csv.reader(open('samples/minimal.csv'))"
   ]
  },
  {
   "cell_type": "code",
   "execution_count": 4,
   "id": "clean-drawing",
   "metadata": {},
   "outputs": [],
   "source": [
    "rows = list(row for row in rdr)"
   ]
  },
  {
   "cell_type": "code",
   "execution_count": 5,
   "id": "realistic-sarah",
   "metadata": {},
   "outputs": [
    {
     "data": {
      "text/plain": [
       "[['key1:', 'value1', '', '', ''],\n",
       " ['key2:', 'value2', '', '', ''],\n",
       " ['title:', 'Minimal sample document', '', '', ''],\n",
       " ['description:',\n",
       "  'This is a sample document that consists of four sections',\n",
       "  '',\n",
       "  '',\n",
       "  ''],\n",
       " ['doc_id:', 'Sample-doc-001', '', '', ''],\n",
       " ['comment:',\n",
       "  'This is not part of document metadata; just a comment about this data source file',\n",
       "  '',\n",
       "  '',\n",
       "  ''],\n",
       " ['section_id', 'slug', 'title', 'description', 'url'],\n",
       " ['001',\n",
       "  'domain',\n",
       "  'Domain',\n",
       "  'An overview of the domain needs for easy-to-use tabular data format',\n",
       "  'https://github.com/rocdata/libtabular/blob/main/docs/domain.md'],\n",
       " ['002',\n",
       "  'dataformat',\n",
       "  'CSV files with metadata',\n",
       "  'Description of the CSV-with-metadata-header data format',\n",
       "  'https://github.com/rocdata/libtabular/blob/main/docs/dataformat.md'],\n",
       " ['003',\n",
       "  'tutorial',\n",
       "  'Tutorial',\n",
       "  'Hands-on examples of using libtabular',\n",
       "  'https://github.com/rocdata/libtabular/blob/main/docs/tutorial.md'],\n",
       " ['004',\n",
       "  'backends',\n",
       "  'Backends',\n",
       "  'Description of integrations to various spreadsheets formats and APIs  ',\n",
       "  'https://github.com/rocdata/libtabular/blob/main/docs/backends.md']]"
      ]
     },
     "execution_count": 5,
     "metadata": {},
     "output_type": "execute_result"
    }
   ],
   "source": [
    "rows"
   ]
  },
  {
   "cell_type": "code",
   "execution_count": 6,
   "id": "labeled-district",
   "metadata": {},
   "outputs": [
    {
     "data": {
      "text/plain": [
       "[OrderedDict([('section_id', 'key1:'),\n",
       "              ('slug', 'value1'),\n",
       "              ('title', ''),\n",
       "              ('description', ''),\n",
       "              ('url', '')]),\n",
       " OrderedDict([('section_id', 'key2:'),\n",
       "              ('slug', 'value2'),\n",
       "              ('title', ''),\n",
       "              ('description', ''),\n",
       "              ('url', '')]),\n",
       " OrderedDict([('section_id', 'title:'),\n",
       "              ('slug', 'Minimal sample document'),\n",
       "              ('title', ''),\n",
       "              ('description', ''),\n",
       "              ('url', '')]),\n",
       " OrderedDict([('section_id', 'description:'),\n",
       "              ('slug',\n",
       "               'This is a sample document that consists of four sections'),\n",
       "              ('title', ''),\n",
       "              ('description', ''),\n",
       "              ('url', '')]),\n",
       " OrderedDict([('section_id', 'doc_id:'),\n",
       "              ('slug', 'Sample-doc-001'),\n",
       "              ('title', ''),\n",
       "              ('description', ''),\n",
       "              ('url', '')]),\n",
       " OrderedDict([('section_id', 'comment:'),\n",
       "              ('slug',\n",
       "               'This is not part of document metadata; just a comment about this data source file'),\n",
       "              ('title', ''),\n",
       "              ('description', ''),\n",
       "              ('url', '')]),\n",
       " OrderedDict([('section_id', 'section_id'),\n",
       "              ('slug', 'slug'),\n",
       "              ('title', 'title'),\n",
       "              ('description', 'description'),\n",
       "              ('url', 'url')]),\n",
       " OrderedDict([('section_id', '001'),\n",
       "              ('slug', 'domain'),\n",
       "              ('title', 'Domain'),\n",
       "              ('description',\n",
       "               'An overview of the domain needs for easy-to-use tabular data format'),\n",
       "              ('url',\n",
       "               'https://github.com/rocdata/libtabular/blob/main/docs/domain.md')]),\n",
       " OrderedDict([('section_id', '002'),\n",
       "              ('slug', 'dataformat'),\n",
       "              ('title', 'CSV files with metadata'),\n",
       "              ('description',\n",
       "               'Description of the CSV-with-metadata-header data format'),\n",
       "              ('url',\n",
       "               'https://github.com/rocdata/libtabular/blob/main/docs/dataformat.md')]),\n",
       " OrderedDict([('section_id', '003'),\n",
       "              ('slug', 'tutorial'),\n",
       "              ('title', 'Tutorial'),\n",
       "              ('description', 'Hands-on examples of using libtabular'),\n",
       "              ('url',\n",
       "               'https://github.com/rocdata/libtabular/blob/main/docs/tutorial.md')]),\n",
       " OrderedDict([('section_id', '004'),\n",
       "              ('slug', 'backends'),\n",
       "              ('title', 'Backends'),\n",
       "              ('description',\n",
       "               'Description of integrations to various spreadsheets formats and APIs  '),\n",
       "              ('url',\n",
       "               'https://github.com/rocdata/libtabular/blob/main/docs/backends.md')])]"
      ]
     },
     "execution_count": 6,
     "metadata": {},
     "output_type": "execute_result"
    }
   ],
   "source": [
    "header_cols = ['section_id', 'slug', 'title', 'description', 'url']\n",
    "drdr = DictReader(open('samples/minimal.csv'), fieldnames=header_cols)\n",
    "list(drdr)"
   ]
  },
  {
   "cell_type": "code",
   "execution_count": null,
   "id": "pacific-inside",
   "metadata": {},
   "outputs": [],
   "source": []
  },
  {
   "cell_type": "code",
   "execution_count": null,
   "id": "south-constitution",
   "metadata": {},
   "outputs": [],
   "source": []
  }
 ],
 "metadata": {
  "kernelspec": {
   "display_name": "Python 3",
   "language": "python",
   "name": "python3"
  },
  "language_info": {
   "codemirror_mode": {
    "name": "ipython",
    "version": 3
   },
   "file_extension": ".py",
   "mimetype": "text/x-python",
   "name": "python",
   "nbconvert_exporter": "python",
   "pygments_lexer": "ipython3",
   "version": "3.6.9"
  }
 },
 "nbformat": 4,
 "nbformat_minor": 5
}
