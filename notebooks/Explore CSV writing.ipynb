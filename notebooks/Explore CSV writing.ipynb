{
 "cells": [
  {
   "cell_type": "code",
   "execution_count": 1,
   "id": "floppy-words",
   "metadata": {},
   "outputs": [],
   "source": [
    "import petl"
   ]
  },
  {
   "cell_type": "code",
   "execution_count": 2,
   "id": "defined-thesaurus",
   "metadata": {},
   "outputs": [],
   "source": [
    "header = [\"field1\", \"filed2\", \"filed3 with space\", \"field4\"]\n",
    "data = [\n",
    "    (1,2,3,33),\n",
    "    (4,5,6,66),\n",
    "    (7,8,9,99)\n",
    "]\n",
    "\n",
    "table = [header] + data"
   ]
  },
  {
   "cell_type": "code",
   "execution_count": 3,
   "id": "determined-belle",
   "metadata": {},
   "outputs": [],
   "source": [
    "\n",
    "petl.tocsv(table, 'test.csv')"
   ]
  },
  {
   "cell_type": "code",
   "execution_count": 4,
   "id": "infectious-spirituality",
   "metadata": {},
   "outputs": [
    {
     "data": {
      "text/plain": [
       "('field1', 'filed2', 'filed3 with space', 'field4')"
      ]
     },
     "execution_count": 4,
     "metadata": {},
     "output_type": "execute_result"
    }
   ],
   "source": [
    "from petl import header\n",
    "header(table)"
   ]
  },
  {
   "cell_type": "code",
   "execution_count": 5,
   "id": "solid-hollywood",
   "metadata": {},
   "outputs": [],
   "source": [
    "petl.tocsv(data, 'test2.csv')"
   ]
  },
  {
   "cell_type": "code",
   "execution_count": 6,
   "id": "laden-macro",
   "metadata": {},
   "outputs": [],
   "source": [
    "import csv"
   ]
  },
  {
   "cell_type": "code",
   "execution_count": null,
   "id": "broke-actress",
   "metadata": {},
   "outputs": [],
   "source": []
  },
  {
   "cell_type": "code",
   "execution_count": null,
   "id": "objective-convert",
   "metadata": {},
   "outputs": [],
   "source": []
  },
  {
   "cell_type": "code",
   "execution_count": null,
   "id": "medical-vessel",
   "metadata": {},
   "outputs": [],
   "source": []
  },
  {
   "cell_type": "code",
   "execution_count": 7,
   "id": "detailed-produce",
   "metadata": {},
   "outputs": [],
   "source": [
    "from libtabular import tocsvwithheader"
   ]
  },
  {
   "cell_type": "code",
   "execution_count": 8,
   "id": "blessed-candy",
   "metadata": {},
   "outputs": [
    {
     "data": {
      "text/plain": [
       "[['field1', 'filed2', 'filed3 with space', 'field4'],\n",
       " (1, 2, 3, 33),\n",
       " (4, 5, 6, 66),\n",
       " (7, 8, 9, 99)]"
      ]
     },
     "execution_count": 8,
     "metadata": {},
     "output_type": "execute_result"
    }
   ],
   "source": [
    "table"
   ]
  },
  {
   "cell_type": "code",
   "execution_count": 9,
   "id": "tribal-bhutan",
   "metadata": {},
   "outputs": [
    {
     "name": "stdout",
     "output_type": "stream",
     "text": [
      "[['#key3:', 'value34', '', ''], ('field1', 'filed2', 'filed3 with space', 'field4'), (1, 2, 3, 33), (4, 5, 6, 66), (7, 8, 9, 99)]\n"
     ]
    }
   ],
   "source": [
    "tocsvwithheader(table, 'test3.csv', metadata={\"key3\":\"value34\"})"
   ]
  },
  {
   "cell_type": "code",
   "execution_count": 10,
   "id": "informative-borough",
   "metadata": {},
   "outputs": [
    {
     "data": {
      "text/plain": [
       "[['field1', 'filed2', 'filed3 with space', 'field4'],\n",
       " (1, 2, 3, 33),\n",
       " (4, 5, 6, 66),\n",
       " (7, 8, 9, 99)]"
      ]
     },
     "execution_count": 10,
     "metadata": {},
     "output_type": "execute_result"
    }
   ],
   "source": [
    "table"
   ]
  },
  {
   "cell_type": "code",
   "execution_count": null,
   "id": "international-roommate",
   "metadata": {},
   "outputs": [],
   "source": []
  }
 ],
 "metadata": {
  "kernelspec": {
   "display_name": "Python 3",
   "language": "python",
   "name": "python3"
  },
  "language_info": {
   "codemirror_mode": {
    "name": "ipython",
    "version": 3
   },
   "file_extension": ".py",
   "mimetype": "text/x-python",
   "name": "python",
   "nbconvert_exporter": "python",
   "pygments_lexer": "ipython3",
   "version": "3.6.9"
  }
 },
 "nbformat": 4,
 "nbformat_minor": 5
}
